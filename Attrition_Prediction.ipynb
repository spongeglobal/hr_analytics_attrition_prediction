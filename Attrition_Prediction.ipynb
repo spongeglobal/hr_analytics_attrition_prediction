{
  "nbformat": 4,
  "nbformat_minor": 0,
  "metadata": {
    "colab": {
      "provenance": []
    },
    "kernelspec": {
      "name": "python3",
      "display_name": "Python 3"
    },
    "language_info": {
      "name": "python"
    }
  },
  "cells": [
    {
      "cell_type": "code",
      "execution_count": 1,
      "metadata": {
        "colab": {
          "base_uri": "https://localhost:8080/"
        },
        "id": "VHRTTNDeDQHX",
        "outputId": "510346f5-93e4-4f00-fad8-046d28ebe582"
      },
      "outputs": [
        {
          "output_type": "stream",
          "name": "stdout",
          "text": [
            "Confusion Matrix:\n",
            " [[12  0]\n",
            " [ 6  2]]\n",
            "\n",
            "Classification Report:\n",
            "               precision    recall  f1-score   support\n",
            "\n",
            "           0       0.67      1.00      0.80        12\n",
            "           1       1.00      0.25      0.40         8\n",
            "\n",
            "    accuracy                           0.70        20\n",
            "   macro avg       0.83      0.62      0.60        20\n",
            "weighted avg       0.80      0.70      0.64        20\n",
            "\n",
            "\n",
            "Accuracy Score: 0.7\n"
          ]
        }
      ],
      "source": [
        "import pandas as pd\n",
        "from sklearn.model_selection import train_test_split\n",
        "from sklearn.linear_model import LogisticRegression\n",
        "from sklearn.metrics import classification_report, confusion_matrix, accuracy_score\n",
        "\n",
        "# Load the dataset\n",
        "df = pd.read_csv(\"ds.csv\")\n",
        "\n",
        "# Convert 'Attrition' to binary\n",
        "df['Attrition'] = df['Attrition'].map({'Yes': 1, 'No': 0})\n",
        "\n",
        "# Select features and target\n",
        "X = df[['Tenure', 'JobSatisfaction', 'Salary']]\n",
        "y = df['Attrition']\n",
        "\n",
        "# Split into train and test\n",
        "X_train, X_test, y_train, y_test = train_test_split(X, y, test_size=0.2, random_state=42)\n",
        "\n",
        "# Initialize and train model\n",
        "model = LogisticRegression()\n",
        "model.fit(X_train, y_train)\n",
        "\n",
        "# Predict on test set\n",
        "y_pred = model.predict(X_test)\n",
        "\n",
        "# Evaluate performance\n",
        "print(\"Confusion Matrix:\\n\", confusion_matrix(y_test, y_pred))\n",
        "print(\"\\nClassification Report:\\n\", classification_report(y_test, y_pred))\n",
        "print(\"\\nAccuracy Score:\", accuracy_score(y_test, y_pred))"
      ]
    },
    {
      "cell_type": "code",
      "source": [
        "import pandas as pd\n",
        "\n",
        "# New employee data: [Tenure, JobSatisfaction, Salary]\n",
        "new_data = pd.DataFrame({\n",
        "    'Tenure': [2.0],\n",
        "    'JobSatisfaction': [3],\n",
        "    'Salary': [55000]\n",
        "})\n",
        "\n",
        "# Predict\n",
        "prediction = model.predict(new_data)\n",
        "print(\"Predicted Attrition:\", \"Yes\" if prediction[0] == 1 else \"No\")"
      ],
      "metadata": {
        "colab": {
          "base_uri": "https://localhost:8080/"
        },
        "id": "qObFo5noDs1p",
        "outputId": "203558cc-64ab-49bf-e47c-d9800f21e080"
      },
      "execution_count": 2,
      "outputs": [
        {
          "output_type": "stream",
          "name": "stdout",
          "text": [
            "Predicted Attrition: No\n"
          ]
        }
      ]
    },
    {
      "cell_type": "code",
      "source": [
        "# prompt: generate a predictive model code to predict attrition based on tenure , jobsatisfaction and salary\n",
        "\n",
        "# Assuming 'Salary' is numerical, let's check if it needs scaling\n",
        "# For Logistic Regression, scaling is often beneficial for numerical features.\n",
        "# We will use StandardScaler for scaling Salary and Tenure.\n",
        "from sklearn.preprocessing import StandardScaler\n",
        "\n",
        "# Select features and target\n",
        "X = df[['Tenure', 'JobSatisfaction', 'Salary']]\n",
        "y = df['Attrition']\n",
        "\n",
        "# Create a list of numerical features to scale\n",
        "numerical_features = ['Tenure', 'Salary']\n",
        "\n",
        "# Initialize StandardScaler\n",
        "scaler = StandardScaler()\n",
        "\n",
        "# Fit and transform the scaler on the numerical features in the training data\n",
        "X_train[numerical_features] = scaler.fit_transform(X_train[numerical_features])\n",
        "\n",
        "# Transform the numerical features in the test data\n",
        "X_test[numerical_features] = scaler.transform(X_test[numerical_features])\n",
        "\n",
        "# Initialize and train model (already done, but re-fitting after scaling)\n",
        "model = LogisticRegression()\n",
        "model.fit(X_train, y_train)\n",
        "\n",
        "# Predict on test set\n",
        "y_pred = model.predict(X_test)\n",
        "\n",
        "# Evaluate performance (already done, but re-evaluating after scaling)\n",
        "print(\"Confusion Matrix after scaling:\\n\", confusion_matrix(y_test, y_pred))\n",
        "print(\"\\nClassification Report after scaling:\\n\", classification_report(y_test, y_pred))\n",
        "print(\"\\nAccuracy Score after scaling:\", accuracy_score(y_test, y_pred))\n",
        "\n",
        "# Predict for new employee data (must also be scaled)\n",
        "new_data = pd.DataFrame({\n",
        "    'Tenure': [2.0],\n",
        "    'JobSatisfaction': [3],\n",
        "    'Salary': [55000]\n",
        "})\n",
        "\n",
        "# Scale the numerical features of the new data using the same scaler\n",
        "new_data[numerical_features] = scaler.transform(new_data[numerical_features])\n",
        "\n",
        "# Predict\n",
        "prediction = model.predict(new_data)\n",
        "print(\"\\nPredicted Attrition for new employee (after scaling):\", \"Yes\" if prediction[0] == 1 else \"No\")"
      ],
      "metadata": {
        "colab": {
          "base_uri": "https://localhost:8080/"
        },
        "id": "iKjNjI81EBXq",
        "outputId": "1649211f-2318-471e-af3a-125fcd0bcbdf"
      },
      "execution_count": 3,
      "outputs": [
        {
          "output_type": "stream",
          "name": "stdout",
          "text": [
            "Confusion Matrix after scaling:\n",
            " [[12  0]\n",
            " [ 7  1]]\n",
            "\n",
            "Classification Report after scaling:\n",
            "               precision    recall  f1-score   support\n",
            "\n",
            "           0       0.63      1.00      0.77        12\n",
            "           1       1.00      0.12      0.22         8\n",
            "\n",
            "    accuracy                           0.65        20\n",
            "   macro avg       0.82      0.56      0.50        20\n",
            "weighted avg       0.78      0.65      0.55        20\n",
            "\n",
            "\n",
            "Accuracy Score after scaling: 0.65\n",
            "\n",
            "Predicted Attrition for new employee (after scaling): No\n"
          ]
        }
      ]
    },
    {
      "cell_type": "code",
      "source": [
        "# prompt: generate a predictive model code to predict attrition based on tenure , jobsatisfaction and salary use random forest as the model\n",
        "\n",
        "from sklearn.ensemble import RandomForestClassifier\n",
        "\n",
        "# Initialize and train model\n",
        "rf_model = RandomForestClassifier(n_estimators=100, random_state=42)\n",
        "rf_model.fit(X_train, y_train)\n",
        "\n",
        "# Predict on test set\n",
        "y_pred_rf = rf_model.predict(X_test)\n",
        "\n",
        "# Evaluate performance\n",
        "print(\"Random Forest Confusion Matrix after scaling:\\n\", confusion_matrix(y_test, y_pred_rf))\n",
        "print(\"\\nRandom Forest Classification Report after scaling:\\n\", classification_report(y_test, y_pred_rf))\n",
        "print(\"\\nRandom Forest Accuracy Score after scaling:\", accuracy_score(y_test, y_pred_rf))\n",
        "\n",
        "# Predict for new employee data (must also be scaled)\n",
        "# new_data is already scaled from the previous Logistic Regression example\n",
        "\n",
        "# Predict\n",
        "prediction_rf = rf_model.predict(new_data)\n",
        "print(\"\\nRandom Forest Predicted Attrition for new employee (after scaling):\", \"Yes\" if prediction_rf[0] == 1 else \"No\")"
      ],
      "metadata": {
        "colab": {
          "base_uri": "https://localhost:8080/"
        },
        "id": "EkAbJ_6XElTh",
        "outputId": "6860bcfe-cf5f-4f54-a2ba-bd1f381c25c6"
      },
      "execution_count": 4,
      "outputs": [
        {
          "output_type": "stream",
          "name": "stdout",
          "text": [
            "Random Forest Confusion Matrix after scaling:\n",
            " [[10  2]\n",
            " [ 8  0]]\n",
            "\n",
            "Random Forest Classification Report after scaling:\n",
            "               precision    recall  f1-score   support\n",
            "\n",
            "           0       0.56      0.83      0.67        12\n",
            "           1       0.00      0.00      0.00         8\n",
            "\n",
            "    accuracy                           0.50        20\n",
            "   macro avg       0.28      0.42      0.33        20\n",
            "weighted avg       0.33      0.50      0.40        20\n",
            "\n",
            "\n",
            "Random Forest Accuracy Score after scaling: 0.5\n",
            "\n",
            "Random Forest Predicted Attrition for new employee (after scaling): No\n"
          ]
        }
      ]
    }
  ]
}